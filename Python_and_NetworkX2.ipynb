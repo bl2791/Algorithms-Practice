{
 "cells": [
  {
   "cell_type": "markdown",
   "metadata": {},
   "source": [
    "# Python + NetworkX Tutorial"
   ]
  },
  {
   "cell_type": "markdown",
   "metadata": {},
   "source": [
    "### Environment\n",
    "\n",
    "\n",
    "There are four ways to run python code:\n",
    "\n",
    "\n",
    "#### put your code in a file (say program.py) and run python program.py\n",
    "\n",
    "\n",
    "This is least desirable when you are first writing your code\n",
    "Later, once your code is debugged, this is the way to go\n",
    "\n",
    "\n",
    "#### type your code into the python interpreter\n",
    "This allows you to interact with the interpreter and fix mistakes as they happen\n",
    "However you have to type everything by hand\n",
    "\n",
    "\n",
    "#### type, cut/paste, or run your code in ipython\n",
    "This is a good method\n",
    "Allows you to cut/paste from a file you are working on\n",
    "\n",
    "\n",
    "#### run ipython in a browser, called jupyter notebook\n",
    "This is even better\n",
    "All the advantages of ipython plus interleaved documentation and graphical output\n",
    "That is what these slides are in"
   ]
  },
  {
   "cell_type": "markdown",
   "metadata": {},
   "source": [
    "### Python 2 vs Python 3\n",
    "\n",
    "There are two versions of Python. In this course, you'll be asked to use Python 2.7. In case you're used to 3, there are two important differences to point out:\n",
    "\n",
    "\n",
    "In Python 2, integer division does not return a floating point value: 3/5 = 0\n",
    "\n",
    "\n",
    "In Python 3, integer division does return a floating point value:"
   ]
  },
  {
   "cell_type": "code",
   "execution_count": 1,
   "metadata": {},
   "outputs": [
    {
     "data": {
      "text/plain": [
       "0"
      ]
     },
     "execution_count": 1,
     "metadata": {},
     "output_type": "execute_result"
    }
   ],
   "source": [
    "3/5"
   ]
  },
  {
   "cell_type": "markdown",
   "metadata": {},
   "source": [
    "In Python 2, the print statement does not use parentheses:\n",
    "print 'a string'\n",
    "\n",
    "In Python 3, print is a function and it uses parentheses:"
   ]
  },
  {
   "cell_type": "code",
   "execution_count": 3,
   "metadata": {},
   "outputs": [
    {
     "name": "stdout",
     "output_type": "stream",
     "text": [
      "a string\n"
     ]
    }
   ],
   "source": [
    "print('a string')"
   ]
  },
  {
   "cell_type": "markdown",
   "metadata": {},
   "source": [
    "### Hello World"
   ]
  },
  {
   "cell_type": "code",
   "execution_count": 4,
   "metadata": {},
   "outputs": [
    {
     "name": "stdout",
     "output_type": "stream",
     "text": [
      "True\n"
     ]
    }
   ],
   "source": [
    "a = 1 in [1,2]\n",
    "print a"
   ]
  },
  {
   "cell_type": "code",
   "execution_count": 5,
   "metadata": {},
   "outputs": [
    {
     "name": "stdout",
     "output_type": "stream",
     "text": [
      "68.676\n"
     ]
    }
   ],
   "source": [
    "a = 23 + 45.676 * 34 / 34\n",
    "print a"
   ]
  },
  {
   "cell_type": "code",
   "execution_count": 6,
   "metadata": {},
   "outputs": [
    {
     "name": "stdout",
     "output_type": "stream",
     "text": [
      "5.0\n"
     ]
    }
   ],
   "source": [
    "a = float(5)\n",
    "print a"
   ]
  },
  {
   "cell_type": "markdown",
   "metadata": {},
   "source": [
    "### Strings, Indexing and Concatenation"
   ]
  },
  {
   "cell_type": "code",
   "execution_count": 7,
   "metadata": {},
   "outputs": [
    {
     "name": "stdout",
     "output_type": "stream",
     "text": [
      "abc\n"
     ]
    }
   ],
   "source": [
    "# \"\\\"\"\n",
    "# '\"'\n",
    "s = \"abc\"\n",
    "s = 'abc'\n",
    "print s\n",
    "# s[-2]\n",
    "# s[0]\n",
    "# s[0][0] + 'bc' + '123'"
   ]
  },
  {
   "cell_type": "markdown",
   "metadata": {},
   "source": [
    "### Lists and Tuples, Appending\n",
    "List are used when an array grows in size. Tuples are typically used in cases when an immutable of sequence of objects is required."
   ]
  },
  {
   "cell_type": "code",
   "execution_count": 8,
   "metadata": {},
   "outputs": [
    {
     "name": "stdout",
     "output_type": "stream",
     "text": [
      "[1, 2, 4, 'hello']\n",
      "(2, 3, 5, 5, 'ge')\n"
     ]
    }
   ],
   "source": [
    "lst = [1, 2, 3, \"hello\"]\n",
    "tup = (2, 3, 5, 5, \"ge\")\n",
    "\n",
    "lst[2] = 4\n",
    "\n",
    "print lst\n",
    "print tup"
   ]
  },
  {
   "cell_type": "code",
   "execution_count": 9,
   "metadata": {},
   "outputs": [
    {
     "name": "stdout",
     "output_type": "stream",
     "text": [
      "[2, 3, 4]\n"
     ]
    }
   ],
   "source": [
    "a = []\n",
    "a = [2,3,4]\n",
    "print a"
   ]
  },
  {
   "cell_type": "code",
   "execution_count": 10,
   "metadata": {},
   "outputs": [
    {
     "ename": "TypeError",
     "evalue": "'tuple' object does not support item assignment",
     "output_type": "error",
     "traceback": [
      "\u001b[0;31m---------------------------------------------------------------------------\u001b[0m",
      "\u001b[0;31mTypeError\u001b[0m                                 Traceback (most recent call last)",
      "\u001b[0;32m<ipython-input-10-b22f38c34e8b>\u001b[0m in \u001b[0;36m<module>\u001b[0;34m()\u001b[0m\n\u001b[1;32m      1\u001b[0m \u001b[0;31m# Try to assign to a tuple value -- you'll get an error. Tuples are immutable!\u001b[0m\u001b[0;34m\u001b[0m\u001b[0;34m\u001b[0m\u001b[0m\n\u001b[1;32m      2\u001b[0m \u001b[0;34m\u001b[0m\u001b[0m\n\u001b[0;32m----> 3\u001b[0;31m \u001b[0mtup\u001b[0m\u001b[0;34m[\u001b[0m\u001b[0;36m2\u001b[0m\u001b[0;34m]\u001b[0m \u001b[0;34m=\u001b[0m \u001b[0;36m4\u001b[0m\u001b[0;34m\u001b[0m\u001b[0m\n\u001b[0m",
      "\u001b[0;31mTypeError\u001b[0m: 'tuple' object does not support item assignment"
     ]
    }
   ],
   "source": [
    "# Try to assign to a tuple value -- you'll get an error. Tuples are immutable!\n",
    "\n",
    "tup[2] = 4"
   ]
  },
  {
   "cell_type": "code",
   "execution_count": 11,
   "metadata": {},
   "outputs": [
    {
     "name": "stdout",
     "output_type": "stream",
     "text": [
      "[1, 2, 4, 'hello', 'world']\n"
     ]
    }
   ],
   "source": [
    "lst.append('world')\n",
    "print lst"
   ]
  },
  {
   "cell_type": "code",
   "execution_count": 12,
   "metadata": {},
   "outputs": [
    {
     "ename": "AttributeError",
     "evalue": "'tuple' object has no attribute 'append'",
     "output_type": "error",
     "traceback": [
      "\u001b[0;31m---------------------------------------------------------------------------\u001b[0m",
      "\u001b[0;31mAttributeError\u001b[0m                            Traceback (most recent call last)",
      "\u001b[0;32m<ipython-input-12-ad8ca3002cd3>\u001b[0m in \u001b[0;36m<module>\u001b[0;34m()\u001b[0m\n\u001b[0;32m----> 1\u001b[0;31m \u001b[0mtup\u001b[0m\u001b[0;34m.\u001b[0m\u001b[0mappend\u001b[0m\u001b[0;34m(\u001b[0m\u001b[0;34m'ala'\u001b[0m\u001b[0;34m)\u001b[0m\u001b[0;34m\u001b[0m\u001b[0m\n\u001b[0m",
      "\u001b[0;31mAttributeError\u001b[0m: 'tuple' object has no attribute 'append'"
     ]
    }
   ],
   "source": [
    "tup.append('ala')"
   ]
  },
  {
   "cell_type": "markdown",
   "metadata": {},
   "source": [
    "### List slicing\n",
    "\n",
    "You can \"slice\" lists to return contiguous sub-lists."
   ]
  },
  {
   "cell_type": "code",
   "execution_count": 13,
   "metadata": {},
   "outputs": [
    {
     "name": "stdout",
     "output_type": "stream",
     "text": [
      "[1, 2, 4, 'hello', 'world']\n",
      "2\n",
      "hello\n",
      "[1, 2, 4]\n",
      "['hello', 'world']\n",
      "['hello', 'world']\n"
     ]
    }
   ],
   "source": [
    "print lst\n",
    "print lst[1]\n",
    "print lst[-2]\n",
    "print lst[:3]\n",
    "print lst[3:5]\n",
    "print lst[-2:]"
   ]
  },
  {
   "cell_type": "markdown",
   "metadata": {},
   "source": [
    "### Queues and Stacks\n",
    "List API supports append() and pop() methods."
   ]
  },
  {
   "cell_type": "code",
   "execution_count": 14,
   "metadata": {},
   "outputs": [
    {
     "name": "stdout",
     "output_type": "stream",
     "text": [
      "2\n",
      "[1]\n",
      "[1, 4]\n"
     ]
    }
   ],
   "source": [
    "stack = [1,2,3]\n",
    "stack.pop()\n",
    "print stack.pop()\n",
    "print stack\n",
    "stack.append(4)\n",
    "print stack"
   ]
  },
  {
   "cell_type": "code",
   "execution_count": 15,
   "metadata": {},
   "outputs": [
    {
     "name": "stdout",
     "output_type": "stream",
     "text": [
      "[2]\n"
     ]
    }
   ],
   "source": [
    "queue = []\n",
    "queue.append(1)\n",
    "queue.append(2)\n",
    "queue = queue[1:]\n",
    "\n",
    "print queue"
   ]
  },
  {
   "cell_type": "markdown",
   "metadata": {},
   "source": [
    "Lists are less efficient for queue operations, but they work. Another option is:"
   ]
  },
  {
   "cell_type": "code",
   "execution_count": 16,
   "metadata": {},
   "outputs": [
    {
     "name": "stdout",
     "output_type": "stream",
     "text": [
      "1\n",
      "[2]\n"
     ]
    }
   ],
   "source": [
    "from collections import deque\n",
    "\n",
    "queue = deque()\n",
    "queue.append(1)\n",
    "queue.append(2)\n",
    "print queue.popleft()\n",
    "\n",
    "print list(queue)"
   ]
  },
  {
   "cell_type": "code",
   "execution_count": 17,
   "metadata": {},
   "outputs": [
    {
     "name": "stdout",
     "output_type": "stream",
     "text": [
      "a\n"
     ]
    }
   ],
   "source": [
    "from collections import deque\n",
    "\n",
    "queue = deque(['a','b','c'])\n",
    "print queue.popleft()"
   ]
  },
  {
   "cell_type": "markdown",
   "metadata": {},
   "source": [
    "### If statements\n",
    "There's nothing new about them."
   ]
  },
  {
   "cell_type": "code",
   "execution_count": 18,
   "metadata": {},
   "outputs": [
    {
     "name": "stdout",
     "output_type": "stream",
     "text": [
      "Default\n"
     ]
    }
   ],
   "source": [
    "if 2 == 3:\n",
    "    print \"Yay!\"\n",
    "elif 5 + 6 != 11:\n",
    "    print 11\n",
    "elif \"being\" in \"the world\":\n",
    "    print \"dasein\"\n",
    "else:\n",
    "    print \"Default\""
   ]
  },
  {
   "cell_type": "markdown",
   "metadata": {},
   "source": [
    "### While and For loops"
   ]
  },
  {
   "cell_type": "code",
   "execution_count": 19,
   "metadata": {},
   "outputs": [
    {
     "name": "stdout",
     "output_type": "stream",
     "text": [
      "Hello\n",
      "Hello\n",
      "Hello\n",
      "Hello\n",
      "Hello\n",
      "Hello\n",
      "Hello\n",
      "Hello\n",
      "Hello\n",
      "Hello\n"
     ]
    }
   ],
   "source": [
    "i = 10\n",
    "while i > 0:\n",
    "    print \"Hello\"\n",
    "    i -= 1"
   ]
  },
  {
   "cell_type": "code",
   "execution_count": 20,
   "metadata": {},
   "outputs": [
    {
     "name": "stdout",
     "output_type": "stream",
     "text": [
      "1\n",
      "2\n",
      "4\n",
      "hello\n",
      "world\n"
     ]
    }
   ],
   "source": [
    "for element in lst:\n",
    "    print element"
   ]
  },
  {
   "cell_type": "code",
   "execution_count": 21,
   "metadata": {},
   "outputs": [
    {
     "name": "stdout",
     "output_type": "stream",
     "text": [
      "1\n",
      "2\n",
      "4\n",
      "hello\n",
      "world\n"
     ]
    }
   ],
   "source": [
    "for i in range(0, len(lst)):\n",
    "    print lst[i]"
   ]
  },
  {
   "cell_type": "code",
   "execution_count": 22,
   "metadata": {},
   "outputs": [
    {
     "name": "stdout",
     "output_type": "stream",
     "text": [
      "0\n",
      "2\n",
      "4\n",
      "6\n",
      "8\n"
     ]
    }
   ],
   "source": [
    "for i in range(0,10,2):\n",
    "    print i"
   ]
  },
  {
   "cell_type": "markdown",
   "metadata": {},
   "source": [
    "### The 'in' keyword"
   ]
  },
  {
   "cell_type": "code",
   "execution_count": 23,
   "metadata": {},
   "outputs": [
    {
     "name": "stdout",
     "output_type": "stream",
     "text": [
      "True\n",
      "True\n",
      "True\n"
     ]
    }
   ],
   "source": [
    "print 1 in [1,2,3]\n",
    "print 't' in 'Saitama'\n",
    "print 'a' not in ['b','c','d']"
   ]
  },
  {
   "cell_type": "markdown",
   "metadata": {},
   "source": [
    "### Sets\n",
    "Lists and sets both support the \"in\" keyword. However, lists naturally take O(n) time for containment operations. **Lists will be just fine to use for this class**, but you should also be aware of an alternative for your future work in Python. "
   ]
  },
  {
   "cell_type": "code",
   "execution_count": 24,
   "metadata": {},
   "outputs": [
    {
     "data": {
      "text/plain": [
       "[1, 2, 3, 4, 5]"
      ]
     },
     "execution_count": 24,
     "metadata": {},
     "output_type": "execute_result"
    }
   ],
   "source": [
    "def find_unique_elements(arr):\n",
    "    unique = []\n",
    "    for item in arr:\n",
    "        if item not in unique:\n",
    "            unique.append(item)\n",
    "    return unique\n",
    "\n",
    "find_unique_elements([1,2,3,3,3,4,5])"
   ]
  },
  {
   "cell_type": "markdown",
   "metadata": {},
   "source": [
    "### [] vs. {}\n",
    "Since unique is a list, this will technically take O(n) time for each \"in\" operation. The following set implementation reduces this to O(1):"
   ]
  },
  {
   "cell_type": "code",
   "execution_count": 25,
   "metadata": {},
   "outputs": [
    {
     "data": {
      "text/plain": [
       "{1, 2, 3, 4, 5}"
      ]
     },
     "execution_count": 25,
     "metadata": {},
     "output_type": "execute_result"
    }
   ],
   "source": [
    "def find_unique_elements(arr):\n",
    "    unique = set()\n",
    "    for item in arr:\n",
    "        if item not in unique:\n",
    "            unique.add(item)\n",
    "    return unique\n",
    "\n",
    "find_unique_elements([1,2,3,3,3,4,5,1])"
   ]
  },
  {
   "cell_type": "markdown",
   "metadata": {},
   "source": [
    "### Files and reading"
   ]
  },
  {
   "cell_type": "code",
   "execution_count": 26,
   "metadata": {
    "scrolled": false
   },
   "outputs": [
    {
     "name": "stdout",
     "output_type": "stream",
     "text": [
      "AL FL\n",
      "AL GA\n",
      "AL MS\n",
      "AL TN\n",
      "AR LA\n",
      "AR MO\n",
      "AR MS\n",
      "AR OK\n",
      "AR TN\n",
      "AR TX\n",
      "AZ CA\n",
      "AZ NM\n",
      "AZ NV\n",
      "AZ UT\n",
      "CA NV\n",
      "CA OR\n",
      "CO KS\n",
      "CO NE\n",
      "CO NM\n",
      "CO OK\n",
      "CO UT\n",
      "CO WY\n",
      "CT MA\n",
      "CT NY\n",
      "CT RI\n",
      "DC MD\n",
      "DC VA\n",
      "DE MD\n",
      "DE NJ\n",
      "DE PA\n",
      "FL GA\n",
      "GA NC\n",
      "GA SC\n",
      "GA TN\n",
      "IA IL\n",
      "IA MN\n",
      "IA MO\n",
      "IA NE\n",
      "IA SD\n",
      "IA WI\n",
      "ID MT\n",
      "ID NV\n",
      "ID OR\n",
      "ID UT\n",
      "ID WA\n",
      "ID WY\n",
      "IL IN\n",
      "IL KY\n",
      "IL MO\n",
      "IL WI\n",
      "IN KY\n",
      "IN MI\n",
      "IN OH\n",
      "KS MO\n",
      "KS NE\n",
      "KS OK\n",
      "KY MO\n",
      "KY OH\n",
      "KY TN\n",
      "KY VA\n",
      "KY WV\n",
      "LA MS\n",
      "LA TX\n",
      "MA NH\n",
      "MA NY\n",
      "MA RI\n",
      "MA VT\n",
      "MD PA\n",
      "MD VA\n",
      "MD WV\n",
      "ME NH\n",
      "MI OH\n",
      "MI WI\n",
      "MN ND\n",
      "MN SD\n",
      "MN WI\n",
      "MO NE\n",
      "MO OK\n",
      "MO TN\n",
      "MS TN\n",
      "MT ND\n",
      "MT SD\n",
      "MT WY\n",
      "NC SC\n",
      "NC TN\n",
      "NC VA\n",
      "ND SD\n",
      "NE SD\n",
      "NE WY\n",
      "NH VT\n",
      "NJ NY\n",
      "NJ PA\n",
      "NM OK\n",
      "NM TX\n",
      "NV OR\n",
      "NV UT\n",
      "NY PA\n",
      "NY VT\n",
      "OH PA\n",
      "OH WV\n",
      "OK TX\n",
      "OR WA\n",
      "PA WV\n",
      "SD WY\n",
      "TN VA\n",
      "UT WY\n",
      "VA WV\n",
      "\n"
     ]
    }
   ],
   "source": [
    "f = open('./contiguous-usa .dat')\n",
    "print f.read()"
   ]
  },
  {
   "cell_type": "markdown",
   "metadata": {},
   "source": [
    "### Readline"
   ]
  },
  {
   "cell_type": "code",
   "execution_count": 27,
   "metadata": {},
   "outputs": [
    {
     "name": "stdout",
     "output_type": "stream",
     "text": [
      "[('AL', 'FL'), ('AL', 'GA'), ('AL', 'MS'), ('AL', 'TN'), ('AR', 'LA'), ('AR', 'MO'), ('AR', 'MS'), ('AR', 'OK'), ('AR', 'TN'), ('AR', 'TX'), ('AZ', 'CA'), ('AZ', 'NM'), ('AZ', 'NV'), ('AZ', 'UT'), ('CA', 'NV'), ('CA', 'OR'), ('CO', 'KS'), ('CO', 'NE'), ('CO', 'NM'), ('CO', 'OK'), ('CO', 'UT'), ('CO', 'WY'), ('CT', 'MA'), ('CT', 'NY'), ('CT', 'RI'), ('DC', 'MD'), ('DC', 'VA'), ('DE', 'MD'), ('DE', 'NJ'), ('DE', 'PA'), ('FL', 'GA'), ('GA', 'NC'), ('GA', 'SC'), ('GA', 'TN'), ('IA', 'IL'), ('IA', 'MN'), ('IA', 'MO'), ('IA', 'NE'), ('IA', 'SD'), ('IA', 'WI'), ('ID', 'MT'), ('ID', 'NV'), ('ID', 'OR'), ('ID', 'UT'), ('ID', 'WA'), ('ID', 'WY'), ('IL', 'IN'), ('IL', 'KY'), ('IL', 'MO'), ('IL', 'WI'), ('IN', 'KY'), ('IN', 'MI'), ('IN', 'OH'), ('KS', 'MO'), ('KS', 'NE'), ('KS', 'OK'), ('KY', 'MO'), ('KY', 'OH'), ('KY', 'TN'), ('KY', 'VA'), ('KY', 'WV'), ('LA', 'MS'), ('LA', 'TX'), ('MA', 'NH'), ('MA', 'NY'), ('MA', 'RI'), ('MA', 'VT'), ('MD', 'PA'), ('MD', 'VA'), ('MD', 'WV'), ('ME', 'NH'), ('MI', 'OH'), ('MI', 'WI'), ('MN', 'ND'), ('MN', 'SD'), ('MN', 'WI'), ('MO', 'NE'), ('MO', 'OK'), ('MO', 'TN'), ('MS', 'TN'), ('MT', 'ND'), ('MT', 'SD'), ('MT', 'WY'), ('NC', 'SC'), ('NC', 'TN'), ('NC', 'VA'), ('ND', 'SD'), ('NE', 'SD'), ('NE', 'WY'), ('NH', 'VT'), ('NJ', 'NY'), ('NJ', 'PA'), ('NM', 'OK'), ('NM', 'TX'), ('NV', 'OR'), ('NV', 'UT'), ('NY', 'PA'), ('NY', 'VT'), ('OH', 'PA'), ('OH', 'WV'), ('OK', 'TX'), ('OR', 'WA'), ('PA', 'WV'), ('SD', 'WY'), ('TN', 'VA'), ('UT', 'WY'), ('VA', 'WV')]\n"
     ]
    }
   ],
   "source": [
    "contents = []\n",
    "# with open() as f is equivalent to f=open(), but f is limited in scope to the 'with' block\n",
    "with open('contiguous-usa .dat') as f:\n",
    "    while True:\n",
    "        line = f.readline().strip()\n",
    "\n",
    "        if line == \"\":\n",
    "            break\n",
    "            \n",
    "        contents.append(tuple(line.split(' ')))\n",
    "\n",
    "print contents"
   ]
  },
  {
   "cell_type": "markdown",
   "metadata": {},
   "source": [
    "### strip() function"
   ]
  },
  {
   "cell_type": "code",
   "execution_count": 28,
   "metadata": {},
   "outputs": [
    {
     "data": {
      "text/plain": [
       "'Hello, World!'"
      ]
     },
     "execution_count": 28,
     "metadata": {},
     "output_type": "execute_result"
    }
   ],
   "source": [
    "# \" \".strip()\n",
    "\"Hello, World!   \\n\".strip()"
   ]
  },
  {
   "cell_type": "markdown",
   "metadata": {},
   "source": [
    "### split(char) function"
   ]
  },
  {
   "cell_type": "code",
   "execution_count": 29,
   "metadata": {},
   "outputs": [
    {
     "data": {
      "text/plain": [
       "['a', 'b', 'c', 'd']"
      ]
     },
     "execution_count": 29,
     "metadata": {},
     "output_type": "execute_result"
    }
   ],
   "source": [
    "s = 'a b c d'\n",
    "s.split(' ')"
   ]
  },
  {
   "cell_type": "code",
   "execution_count": 30,
   "metadata": {},
   "outputs": [
    {
     "name": "stdout",
     "output_type": "stream",
     "text": [
      "6J\n",
      "['ZE']\n",
      "['PO', 'AJ', 'AX']\n",
      "['PO', 'TU', 'LT', 'PB', '9K', '7S', 'MR', 'AL']\n",
      "['GS', 'HT']\n",
      "['DP', 'MR']\n",
      "['TU', '48']\n",
      "['48', '49']\n",
      "['48', 'PR']\n",
      "['HT', 'TU', '9O']\n"
     ]
    }
   ],
   "source": [
    "s = \"6J Pheidas, lieutenant of MT\"\n",
    "print s.split()[0]\n",
    "s = '13:ZE;PO,AJ,AX;PO,TU,LT,PB,9K,7S,MR,AL;GS,HT;DP,MR;TU,48;48,49;48,PR;HT,TU,9O'\n",
    "for edgeset in s.split(':')[1].split(';'):\n",
    "    print edgeset.split(',')"
   ]
  },
  {
   "cell_type": "markdown",
   "metadata": {},
   "source": [
    "### sorted(list) function"
   ]
  },
  {
   "cell_type": "code",
   "execution_count": 31,
   "metadata": {},
   "outputs": [
    {
     "name": "stdout",
     "output_type": "stream",
     "text": [
      "[2, 3, 4]\n",
      "['7S', '9K', 'AL', 'LT', 'MR', 'PB', 'PO', 'TU']\n"
     ]
    },
    {
     "data": {
      "text/plain": [
       "[1.0, 1]"
      ]
     },
     "execution_count": 31,
     "metadata": {},
     "output_type": "execute_result"
    }
   ],
   "source": [
    "print sorted([4, 2, 3])\n",
    "\n",
    "print sorted(['PO', 'TU', 'LT', 'PB', '9K', '7S', 'MR', 'AL'])\n",
    "\n",
    "sorted([45678, \"abc\"])\n",
    "\n",
    "sorted([1.0, 1])"
   ]
  },
  {
   "cell_type": "markdown",
   "metadata": {},
   "source": [
    "### Lambda functions\n",
    "Python supports the creation of anonymous functions (i.e. functions that are not bound to a name) at runtime, using a construct called lambda."
   ]
  },
  {
   "cell_type": "code",
   "execution_count": 32,
   "metadata": {},
   "outputs": [
    {
     "data": {
      "text/plain": [
       "64"
      ]
     },
     "execution_count": 32,
     "metadata": {},
     "output_type": "execute_result"
    }
   ],
   "source": [
    "def f(x):\n",
    "    return x**2\n",
    "f(8)"
   ]
  },
  {
   "cell_type": "code",
   "execution_count": 33,
   "metadata": {},
   "outputs": [
    {
     "data": {
      "text/plain": [
       "64"
      ]
     },
     "execution_count": 33,
     "metadata": {},
     "output_type": "execute_result"
    }
   ],
   "source": [
    "f = lambda x : x**2\n",
    "f(8)"
   ]
  },
  {
   "cell_type": "markdown",
   "metadata": {},
   "source": [
    "## Graph & NetworkX"
   ]
  },
  {
   "cell_type": "markdown",
   "metadata": {},
   "source": [
    "### Initialization"
   ]
  },
  {
   "cell_type": "code",
   "execution_count": 34,
   "metadata": {},
   "outputs": [],
   "source": [
    "import networkx as nx\n",
    "\n",
    "G = nx.Graph()\n",
    "G.add_nodes_from(['a', 'b', 'c', 'd'])\n",
    "G.add_edges_from([('a', 'b'), ('b', 'c'), ('c', 'd'), ('d', 'a')])"
   ]
  },
  {
   "cell_type": "markdown",
   "metadata": {},
   "source": [
    "### nodes() function"
   ]
  },
  {
   "cell_type": "code",
   "execution_count": 35,
   "metadata": {},
   "outputs": [
    {
     "name": "stdout",
     "output_type": "stream",
     "text": [
      "['a', 'c', 'b', 'd']\n",
      "['a', 'b', 'c', 'd']\n"
     ]
    }
   ],
   "source": [
    "print G.nodes()\n",
    "print sorted(G.nodes())"
   ]
  },
  {
   "cell_type": "markdown",
   "metadata": {},
   "source": [
    "### edges() function"
   ]
  },
  {
   "cell_type": "code",
   "execution_count": 36,
   "metadata": {},
   "outputs": [
    {
     "data": {
      "text/plain": [
       "EdgeView([('a', 'b'), ('a', 'd'), ('c', 'b'), ('c', 'd')])"
      ]
     },
     "execution_count": 36,
     "metadata": {},
     "output_type": "execute_result"
    }
   ],
   "source": [
    "G.edges()"
   ]
  },
  {
   "cell_type": "markdown",
   "metadata": {},
   "source": [
    "### neighbors() function"
   ]
  },
  {
   "cell_type": "code",
   "execution_count": 38,
   "metadata": {},
   "outputs": [
    {
     "name": "stdout",
     "output_type": "stream",
     "text": [
      "b\n",
      "d\n"
     ]
    }
   ],
   "source": [
    "for i in G.neighbors('a'):\n",
    "    print(i)"
   ]
  },
  {
   "cell_type": "markdown",
   "metadata": {},
   "source": [
    "## THE END"
   ]
  }
 ],
 "metadata": {
  "kernelspec": {
   "display_name": "Python 2",
   "language": "python",
   "name": "python2"
  },
  "language_info": {
   "codemirror_mode": {
    "name": "ipython",
    "version": 2
   },
   "file_extension": ".py",
   "mimetype": "text/x-python",
   "name": "python",
   "nbconvert_exporter": "python",
   "pygments_lexer": "ipython2",
   "version": "2.7.16"
  }
 },
 "nbformat": 4,
 "nbformat_minor": 1
}
