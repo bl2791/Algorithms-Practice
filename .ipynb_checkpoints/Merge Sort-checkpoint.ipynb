{
 "cells": [
  {
   "cell_type": "code",
   "execution_count": 66,
   "metadata": {},
   "outputs": [],
   "source": [
    "def Mergesort(A, left, right):\n",
    "    if left == right:\n",
    "        return\n",
    "    mid = (left + right) / 2\n",
    "    Mergesort(A, left, mid)\n",
    "    Mergesort(A, mid + 1, right)\n",
    "    Merge(A, left, mid, right)\n",
    "    \n",
    "def Merge(A, left, mid, right):\n",
    "    new_arr = []\n",
    "    for i in range(left, right + 1):\n",
    "        new_arr.append(A[i])\n",
    "    i = 0\n",
    "    j = mid - left + 1\n",
    "    k = left\n",
    "    while k <= right: # both lists are nonempty or k <= right\n",
    "        if i + left > mid:\n",
    "            A[k] = new_arr[j]\n",
    "            j += 1\n",
    "        elif j + left > right:\n",
    "            A[k] = new_arr[i]\n",
    "            i += 1\n",
    "        else:\n",
    "            if new_arr[i] <= new_arr[j]:\n",
    "              A[k] = new_arr[i]\n",
    "              i += 1\n",
    "            else:\n",
    "              A[k] = new_arr[j]\n",
    "              j += 1\n",
    "        k += 1\n",
    "    return"
   ]
  },
  {
   "cell_type": "code",
   "execution_count": 69,
   "metadata": {},
   "outputs": [
    {
     "name": "stdout",
     "output_type": "stream",
     "text": [
      "[1, 1, 2, 3, 4, 7, 7, 8]\n"
     ]
    }
   ],
   "source": [
    "arr = [1, 7, 4, 3, 7, 8, 1, 2]\n",
    "Mergesort(arr, 0, len(arr) - 1)\n",
    "print(arr)"
   ]
  }
 ],
 "metadata": {
  "kernelspec": {
   "display_name": "Python 2",
   "language": "python",
   "name": "python2"
  },
  "language_info": {
   "codemirror_mode": {
    "name": "ipython",
    "version": 2
   },
   "file_extension": ".py",
   "mimetype": "text/x-python",
   "name": "python",
   "nbconvert_exporter": "python",
   "pygments_lexer": "ipython2",
   "version": "2.7.16"
  }
 },
 "nbformat": 4,
 "nbformat_minor": 2
}
