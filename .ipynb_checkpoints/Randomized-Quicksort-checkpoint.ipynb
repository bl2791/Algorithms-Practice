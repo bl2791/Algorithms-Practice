{
 "cells": [
  {
   "cell_type": "code",
   "execution_count": 4,
   "metadata": {},
   "outputs": [
    {
     "name": "stdout",
     "output_type": "stream",
     "text": [
      "[1, 2, 3, 4, 5, 6, 100]\n"
     ]
    }
   ],
   "source": [
    "import random\n",
    "def Quicksort(A, left, right):\n",
    "    if left >= right:  # we should consider more thoroughly.\n",
    "        return\n",
    "    split = Partition(A, left, right)\n",
    "    Quicksort(A, left, split - 1)\n",
    "    Quicksort(A, split + 1, right)\n",
    "\n",
    "def Randomized_Partition(A, left, right):\n",
    "    pivot_index = random.randint(left, right + 1)\n",
    "    A[pivot_index], A[right] = A[right], A[pivot_index]\n",
    "    return Partition(A, left, right)\n",
    "\n",
    "def Partition(A, left, right):\n",
    "    split = left - 1\n",
    "    pivot = A[right]\n",
    "    for j in range(left, right):\n",
    "        if A[j] <= pivot:\n",
    "            A[j], A[split + 1] = A[split + 1], A[j]\n",
    "            split += 1\n",
    "    A[split + 1], A[right] = A[right], A[split + 1]\n",
    "    return split + 1\n",
    "\n",
    "arr = [1, 3, 2, 5, 100, 6, 4]\n",
    "Quicksort(arr, 0, len(arr) - 1)\n",
    "print(arr)"
   ]
  }
 ],
 "metadata": {
  "kernelspec": {
   "display_name": "Python 2",
   "language": "python",
   "name": "python2"
  },
  "language_info": {
   "codemirror_mode": {
    "name": "ipython",
    "version": 2
   },
   "file_extension": ".py",
   "mimetype": "text/x-python",
   "name": "python",
   "nbconvert_exporter": "python",
   "pygments_lexer": "ipython2",
   "version": "2.7.16"
  }
 },
 "nbformat": 4,
 "nbformat_minor": 2
}
