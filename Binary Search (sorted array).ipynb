{
 "cells": [
  {
   "cell_type": "code",
   "execution_count": 114,
   "metadata": {},
   "outputs": [],
   "source": [
    "#use array\n",
    "def Binarysearch(target, A, left, right):\n",
    "    mid = (left + right) / 2\n",
    "    if target == A[mid]:\n",
    "        return mid\n",
    "    elif right == left:\n",
    "        return\n",
    "    elif mid - 1 < 0: # make sure that mid - 1 would not less than 0\n",
    "        return\n",
    "    elif target < A[mid]:\n",
    "        return Binarysearch(target, A, left, mid - 1)\n",
    "    elif target > A[mid]:\n",
    "        return Binarysearch(target, A, mid + 1, right)"
   ]
  },
  {
   "cell_type": "code",
   "execution_count": 130,
   "metadata": {
    "scrolled": true
   },
   "outputs": [
    {
     "name": "stdout",
     "output_type": "stream",
     "text": [
      "0\n"
     ]
    }
   ],
   "source": [
    "arr = [1, 3, 8, 9, 21]\n",
    "print(Binarysearch(1, arr, 0, len(arr) - 1))"
   ]
  },
  {
   "cell_type": "code",
   "execution_count": 126,
   "metadata": {},
   "outputs": [],
   "source": [
    "#use linked-list\n",
    "class BinarySearch:\n",
    "    class ListNode:\n",
    "        def __init__(self, item):\n",
    "            self.value = item\n",
    "            self.next = None\n",
    "    def __init__(self):\n",
    "        self.pointer = None\n",
    "        self.first = None\n",
    "        self.left = 0\n",
    "        self.right = -1\n",
    "    def push(self, item):\n",
    "        oldfirst = self.first\n",
    "        self.first = self.ListNode(item)\n",
    "        self.first.next = oldfirst\n",
    "        self.right += 1\n",
    "    def Binarysearch(self, target):\n",
    "        if self.left > self.right:\n",
    "            return\n",
    "        mid = (self.left + self.right) / 2\n",
    "        self.pointer = self.first\n",
    "        for i in range (mid):\n",
    "            self.pointer = self.pointer.next\n",
    "        if self.pointer.value == target:\n",
    "            return mid\n",
    "        elif self.right == self.left:\n",
    "            return\n",
    "        elif mid - 1 < 0:\n",
    "            return\n",
    "        elif target > self.pointer.value:\n",
    "            self.left = mid + 1\n",
    "            return self.Binarysearch(target)\n",
    "        elif target < self.pointer.value:\n",
    "            self.right = mid - 1\n",
    "            return self.Binarysearch(target)\n",
    "        "
   ]
  },
  {
   "cell_type": "code",
   "execution_count": 129,
   "metadata": {},
   "outputs": [
    {
     "name": "stdout",
     "output_type": "stream",
     "text": [
      "0\n"
     ]
    }
   ],
   "source": [
    "a = BinarySearch()\n",
    "arr = [1, 3, 8, 9, 21]\n",
    "for i in range(len(arr) - 1, -1, -1):\n",
    "    a.push(arr[i])\n",
    "print(a.Binarysearch(1))"
   ]
  }
 ],
 "metadata": {
  "kernelspec": {
   "display_name": "Python 2",
   "language": "python",
   "name": "python2"
  },
  "language_info": {
   "codemirror_mode": {
    "name": "ipython",
    "version": 2
   },
   "file_extension": ".py",
   "mimetype": "text/x-python",
   "name": "python",
   "nbconvert_exporter": "python",
   "pygments_lexer": "ipython2",
   "version": "2.7.16"
  }
 },
 "nbformat": 4,
 "nbformat_minor": 2
}
